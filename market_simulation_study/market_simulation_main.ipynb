{
 "cells": [
  {
   "cell_type": "code",
   "execution_count": 8,
   "metadata": {},
   "outputs": [],
   "source": [
    "from agents import RandomAgent\n",
    "from environment import market_env\n",
    "\n",
    "import numpy as np\n",
    "import pandas as pd"
   ]
  },
  {
   "cell_type": "markdown",
   "metadata": {},
   "source": [
    "# Simulation \n",
    "\n",
    "\n",
    "## Setup"
   ]
  },
  {
   "cell_type": "code",
   "execution_count": 9,
   "metadata": {},
   "outputs": [],
   "source": [
    "# Declare parameters\n",
    "n_agents= 100\n",
    "time_periods = 300\n",
    "\n",
    "price_list = [100 + np.random.normal() for j in range(100)]\n",
    "ex_list = np.array([[0]*n_agents, [0]*n_agents])\n",
    "fee = 0\n",
    "\n",
    "\n",
    "state0 = {\"market_prices\": price_list, \"execution_status\": ex_list, 'fee':fee }\n",
    "env = market_env(state0)\n",
    "agents = [RandomAgent(agent_id = j, latency = np.random.normal()) for j in range(n_agents)]\n",
    "\n",
    "\n",
    "\n",
    "# Initialize agents\n",
    "for j in range(n_agents):\n",
    "        agents[j].update(state0)"
   ]
  },
  {
   "cell_type": "markdown",
   "metadata": {},
   "source": [
    "## Run simulation"
   ]
  },
  {
   "cell_type": "code",
   "execution_count": 10,
   "metadata": {},
   "outputs": [],
   "source": [
    "for time in range(time_periods):\n",
    "    state = env.step(agents)\n",
    "    for j in range(n_agents):\n",
    "        agents[j].update(state)\n",
    "    "
   ]
  },
  {
   "cell_type": "markdown",
   "metadata": {},
   "source": [
    "# Performance overview"
   ]
  },
  {
   "cell_type": "code",
   "execution_count": 11,
   "metadata": {},
   "outputs": [
    {
     "name": "stdout",
     "output_type": "stream",
     "text": [
      "PNL SUM:  1.3073986337985843e-12\n"
     ]
    },
    {
     "data": {
      "text/html": [
       "<div>\n",
       "<style scoped>\n",
       "    .dataframe tbody tr th:only-of-type {\n",
       "        vertical-align: middle;\n",
       "    }\n",
       "\n",
       "    .dataframe tbody tr th {\n",
       "        vertical-align: top;\n",
       "    }\n",
       "\n",
       "    .dataframe thead th {\n",
       "        text-align: right;\n",
       "    }\n",
       "</style>\n",
       "<table border=\"1\" class=\"dataframe\">\n",
       "  <thead>\n",
       "    <tr style=\"text-align: right;\">\n",
       "      <th></th>\n",
       "      <th>Position</th>\n",
       "      <th>PNL</th>\n",
       "    </tr>\n",
       "  </thead>\n",
       "  <tbody>\n",
       "    <tr>\n",
       "      <th>0</th>\n",
       "      <td>-6</td>\n",
       "      <td>16.964856</td>\n",
       "    </tr>\n",
       "    <tr>\n",
       "      <th>1</th>\n",
       "      <td>-5</td>\n",
       "      <td>-30.726419</td>\n",
       "    </tr>\n",
       "    <tr>\n",
       "      <th>2</th>\n",
       "      <td>-28</td>\n",
       "      <td>124.158606</td>\n",
       "    </tr>\n",
       "    <tr>\n",
       "      <th>3</th>\n",
       "      <td>-9</td>\n",
       "      <td>4.057016</td>\n",
       "    </tr>\n",
       "    <tr>\n",
       "      <th>4</th>\n",
       "      <td>-10</td>\n",
       "      <td>-4.560924</td>\n",
       "    </tr>\n",
       "    <tr>\n",
       "      <th>...</th>\n",
       "      <td>...</td>\n",
       "      <td>...</td>\n",
       "    </tr>\n",
       "    <tr>\n",
       "      <th>95</th>\n",
       "      <td>-14</td>\n",
       "      <td>92.406917</td>\n",
       "    </tr>\n",
       "    <tr>\n",
       "      <th>96</th>\n",
       "      <td>6</td>\n",
       "      <td>-31.561204</td>\n",
       "    </tr>\n",
       "    <tr>\n",
       "      <th>97</th>\n",
       "      <td>-5</td>\n",
       "      <td>11.074856</td>\n",
       "    </tr>\n",
       "    <tr>\n",
       "      <th>98</th>\n",
       "      <td>4</td>\n",
       "      <td>-30.509052</td>\n",
       "    </tr>\n",
       "    <tr>\n",
       "      <th>99</th>\n",
       "      <td>-17</td>\n",
       "      <td>60.768184</td>\n",
       "    </tr>\n",
       "  </tbody>\n",
       "</table>\n",
       "<p>100 rows × 2 columns</p>\n",
       "</div>"
      ],
      "text/plain": [
       "   Position         PNL\n",
       "0        -6   16.964856\n",
       "1        -5  -30.726419\n",
       "2       -28  124.158606\n",
       "3        -9    4.057016\n",
       "4       -10   -4.560924\n",
       "..      ...         ...\n",
       "95      -14   92.406917\n",
       "96        6  -31.561204\n",
       "97       -5   11.074856\n",
       "98        4  -30.509052\n",
       "99      -17   60.768184\n",
       "\n",
       "[100 rows x 2 columns]"
      ]
     },
     "execution_count": 11,
     "metadata": {},
     "output_type": "execute_result"
    }
   ],
   "source": [
    "stats_df = pd.DataFrame({\"Position\":None, \"PNL\":None}, index = [0]).dropna()\n",
    "for agent in agents:\n",
    "    agent.calculate_profit_and_loss(state)\n",
    "    df_temp = pd.DataFrame({\"Position\":agent.position, \"PNL\": agent.pnl}, index = [agent.agent_id])\n",
    "    stats_df = stats_df.append(df_temp)\n",
    "\n",
    "print(\"PNL SUM: \", stats_df[\"PNL\"].sum())\n",
    "stats_df\n"
   ]
  },
  {
   "cell_type": "code",
   "execution_count": null,
   "metadata": {},
   "outputs": [],
   "source": []
  }
 ],
 "metadata": {
  "kernelspec": {
   "display_name": "Python 3",
   "language": "python",
   "name": "python3"
  },
  "language_info": {
   "codemirror_mode": {
    "name": "ipython",
    "version": 3
   },
   "file_extension": ".py",
   "mimetype": "text/x-python",
   "name": "python",
   "nbconvert_exporter": "python",
   "pygments_lexer": "ipython3",
   "version": "3.8.10"
  }
 },
 "nbformat": 4,
 "nbformat_minor": 1
}
