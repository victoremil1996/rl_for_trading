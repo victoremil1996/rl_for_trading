{
 "cells": [
  {
   "cell_type": "code",
   "execution_count": 7,
   "id": "structured-mitchell",
   "metadata": {},
   "outputs": [],
   "source": [
    "import numpy as np\n",
    "import pandas as pd"
   ]
  },
  {
   "cell_type": "code",
   "execution_count": 149,
   "id": "wireless-monte",
   "metadata": {},
   "outputs": [],
   "source": [
    "sell_orderbook = np.array([[100, 5, 1, 0], \n",
    "                            [99, 3, 2, 1],\n",
    "                           [99, 3, 5, 5],\n",
    "                           [120, 3, 3, 2]])\n",
    "sob = pd.DataFrame(sell_orderbook, columns = [\"BP\", \"Volume\", \"Latency\", \"ID\"], index = sell_orderbook[:, -1])\n",
    "bob = sob.copy()"
   ]
  },
  {
   "cell_type": "code",
   "execution_count": 153,
   "id": "chief-tunisia",
   "metadata": {},
   "outputs": [
    {
     "name": "stdout",
     "output_type": "stream",
     "text": [
      "price_match\n"
     ]
    }
   ],
   "source": [
    "if bo[\"BP\"].values > any(sob.iloc[:, 0]):\n",
    "    print(\"price_match\")\n",
    "    temp = sob[sob[\"BP\"].values <= bo[\"BP\"].values]\n",
    "    temp = temp.sort_values([\"BP\", \"Latency\"], ascending = [True, True])\n",
    "    for index, order in temp.iterrows():\n",
    "        if bo[\"Volume\"].values > order[\"Volume\"]:\n",
    "            trade_volume = order[\"Volume\"].copy()\n",
    "        else:\n",
    "            trade_volume = bo[\"Volume\"].copy()\n",
    "        bo[\"Volume\"] -= trade_volume\n",
    "        sob.at[index, 'Volume'] -= trade_volume\n",
    "        # agents[sob[\"ID\"]].all_trades.append([order[\"BP\"], - trade_volume])\n",
    "        \n",
    "sob = sob[sob[\"Volume\"] > 0]\n",
    "if bo[\"Volume\"].values > 0:\n",
    "    bob = bob.append(bo)"
   ]
  },
  {
   "cell_type": "code",
   "execution_count": 147,
   "id": "perfect-boston",
   "metadata": {},
   "outputs": [
    {
     "data": {
      "text/html": [
       "<div>\n",
       "<style scoped>\n",
       "    .dataframe tbody tr th:only-of-type {\n",
       "        vertical-align: middle;\n",
       "    }\n",
       "\n",
       "    .dataframe tbody tr th {\n",
       "        vertical-align: top;\n",
       "    }\n",
       "\n",
       "    .dataframe thead th {\n",
       "        text-align: right;\n",
       "    }\n",
       "</style>\n",
       "<table border=\"1\" class=\"dataframe\">\n",
       "  <thead>\n",
       "    <tr style=\"text-align: right;\">\n",
       "      <th></th>\n",
       "      <th>BP</th>\n",
       "      <th>Volume</th>\n",
       "      <th>Latency</th>\n",
       "      <th>ID</th>\n",
       "    </tr>\n",
       "  </thead>\n",
       "  <tbody>\n",
       "    <tr>\n",
       "      <th>0.0</th>\n",
       "      <td>100.0</td>\n",
       "      <td>5.0</td>\n",
       "      <td>1.0</td>\n",
       "      <td>0.0</td>\n",
       "    </tr>\n",
       "    <tr>\n",
       "      <th>1.0</th>\n",
       "      <td>99.0</td>\n",
       "      <td>3.0</td>\n",
       "      <td>2.0</td>\n",
       "      <td>1.0</td>\n",
       "    </tr>\n",
       "    <tr>\n",
       "      <th>5.0</th>\n",
       "      <td>99.0</td>\n",
       "      <td>3.0</td>\n",
       "      <td>5.0</td>\n",
       "      <td>5.0</td>\n",
       "    </tr>\n",
       "    <tr>\n",
       "      <th>2.0</th>\n",
       "      <td>120.0</td>\n",
       "      <td>3.0</td>\n",
       "      <td>3.0</td>\n",
       "      <td>2.0</td>\n",
       "    </tr>\n",
       "    <tr>\n",
       "      <th>3.0</th>\n",
       "      <td>99.5</td>\n",
       "      <td>1.0</td>\n",
       "      <td>4.0</td>\n",
       "      <td>3.0</td>\n",
       "    </tr>\n",
       "  </tbody>\n",
       "</table>\n",
       "</div>"
      ],
      "text/plain": [
       "        BP  Volume  Latency   ID\n",
       "0.0  100.0     5.0      1.0  0.0\n",
       "1.0   99.0     3.0      2.0  1.0\n",
       "5.0   99.0     3.0      5.0  5.0\n",
       "2.0  120.0     3.0      3.0  2.0\n",
       "3.0   99.5     1.0      4.0  3.0"
      ]
     },
     "metadata": {},
     "output_type": "display_data"
    },
    {
     "data": {
      "text/html": [
       "<div>\n",
       "<style scoped>\n",
       "    .dataframe tbody tr th:only-of-type {\n",
       "        vertical-align: middle;\n",
       "    }\n",
       "\n",
       "    .dataframe tbody tr th {\n",
       "        vertical-align: top;\n",
       "    }\n",
       "\n",
       "    .dataframe thead th {\n",
       "        text-align: right;\n",
       "    }\n",
       "</style>\n",
       "<table border=\"1\" class=\"dataframe\">\n",
       "  <thead>\n",
       "    <tr style=\"text-align: right;\">\n",
       "      <th></th>\n",
       "      <th>BP</th>\n",
       "      <th>Volume</th>\n",
       "      <th>Latency</th>\n",
       "      <th>ID</th>\n",
       "    </tr>\n",
       "  </thead>\n",
       "  <tbody>\n",
       "    <tr>\n",
       "      <th>0</th>\n",
       "      <td>100</td>\n",
       "      <td>5</td>\n",
       "      <td>1</td>\n",
       "      <td>0</td>\n",
       "    </tr>\n",
       "    <tr>\n",
       "      <th>2</th>\n",
       "      <td>120</td>\n",
       "      <td>3</td>\n",
       "      <td>3</td>\n",
       "      <td>2</td>\n",
       "    </tr>\n",
       "  </tbody>\n",
       "</table>\n",
       "</div>"
      ],
      "text/plain": [
       "    BP  Volume  Latency  ID\n",
       "0  100       5        1   0\n",
       "2  120       3        3   2"
      ]
     },
     "metadata": {},
     "output_type": "display_data"
    }
   ],
   "source": [
    "display(bob)\n",
    "display(sob)"
   ]
  },
  {
   "cell_type": "code",
   "execution_count": null,
   "id": "modern-portuguese",
   "metadata": {},
   "outputs": [],
   "source": []
  },
  {
   "cell_type": "code",
   "execution_count": null,
   "id": "mighty-forest",
   "metadata": {},
   "outputs": [],
   "source": []
  }
 ],
 "metadata": {
  "kernelspec": {
   "display_name": "Python 3",
   "language": "python",
   "name": "python3"
  },
  "language_info": {
   "codemirror_mode": {
    "name": "ipython",
    "version": 3
   },
   "file_extension": ".py",
   "mimetype": "text/x-python",
   "name": "python",
   "nbconvert_exporter": "python",
   "pygments_lexer": "ipython3",
   "version": "3.8.10"
  }
 },
 "nbformat": 4,
 "nbformat_minor": 5
}
