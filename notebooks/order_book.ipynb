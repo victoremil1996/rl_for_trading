{
 "cells": [
  {
   "cell_type": "code",
   "execution_count": 386,
   "id": "structured-mitchell",
   "metadata": {},
   "outputs": [
    {
     "name": "stdout",
     "output_type": "stream",
     "text": [
      "The autoreload extension is already loaded. To reload it, use:\n",
      "  %reload_ext autoreload\n"
     ]
    }
   ],
   "source": [
    "\"\"\"\n",
    "Magic commands\n",
    "\"\"\"\n",
    "%matplotlib inline\n",
    "%load_ext autoreload\n",
    "%autoreload 2\n",
    "\n",
    "\"\"\"\n",
    "Python standard packages\n",
    "\"\"\"\n",
    "import os\n",
    "import sys\n",
    "\n",
    "import numpy as np\n",
    "import pandas as pd\n",
    "import matplotlib.pyplot as plt\n",
    "import seaborn as sns\n",
    "\n",
    "from keras.models import Sequential\n",
    "from keras.layers import Dense, SimpleRNN, LSTM\n",
    "from sklearn.preprocessing import MinMaxScaler\n",
    "from sklearn.metrics import mean_squared_error\n",
    "from sklearn.model_selection import train_test_split\n",
    "import math\n",
    "\"\"\"\n",
    "Own packages\n",
    "\"\"\"\n",
    "sys.path.insert(0, \"C:\\\\code\\\\speciale\\\\\") # vesl path\n",
    "sys.path.insert(0, \"C:\\\\Users\\\\lucas\\\\OneDrive\\\\Skrivebord\\\\repo\\\\speciale\\\\\") # ljb path\n",
    "\n",
    "from market_simulation_study.agent import RandomAgent, InvestorAgent, TrendAgent, RLAgent, MarketMakerAgent\n",
    "from market_simulation_study.environment import MarketEnvironment"
   ]
  },
  {
   "cell_type": "code",
   "execution_count": 387,
   "id": "9aaaac7c",
   "metadata": {},
   "outputs": [],
   "source": [
    "def generate_xy(data, time_steps):\n",
    "    # Indices of target array\n",
    "    #data_y = data[\"reward\"]\n",
    "    data_y = data[:, -1]\n",
    "    y_ind = np.arange(time_steps, len(data_y), time_steps)\n",
    "    y = data_y[y_ind]\n",
    "    # Prepare X\n",
    "    rows_x = len(y)\n",
    "    data_x = data[:,:-1]\n",
    "    #scaler = MinMaxScaler(feature_range=(0, 1)) \n",
    "    #data_x = scaler.fit_transform(data_x)\n",
    "    x = data_x[range(time_steps*rows_x), :]\n",
    "    n_features = data_x.shape[1]\n",
    "    x = np.reshape(x, (rows_x, time_steps, n_features))    \n",
    "    return x, y\n"
   ]
  },
  {
   "cell_type": "code",
   "execution_count": 473,
   "id": "bc61e0d7",
   "metadata": {
    "scrolled": true
   },
   "outputs": [],
   "source": [
    "df_rl = pd.read_feather('data/rl_state_space.feather').dropna()\n",
    "cols = df_rl.columns\n",
    "scaler = MinMaxScaler(feature_range=(0, 1))\n",
    "scaler_reward = MinMaxScaler(feature_range=(0, 1))\n",
    "scaler_fitted = scaler_reward.fit(df_rl[\"reward\"].to_numpy().reshape(-1, 1))\n",
    "df_rl = pd.DataFrame(scaler.fit_transform(df_rl), columns = cols)\n",
    "#df_rl[\"reward\"] = np.abs(df_rl[\"reward\"])\n",
    "data_x = df_rl.iloc[:, :-1]\n",
    "data_y = df_rl['reward']\n",
    "data_len = data_x.shape[0]\n",
    "test_ratio = 0.3\n",
    "time_steps = 31 # Number of previous timesteps to use for prediction \n",
    "row_split = int((data_len * (1-test_ratio)))\n",
    "\n",
    "data_train, data_test = df_rl.iloc[:row_split,:], df_rl.iloc[row_split:, :]\n",
    "data_train, data_test = data_train.to_numpy(), data_test.to_numpy()\n",
    "x_train, y_train = generate_xy(data_train, time_steps)\n",
    "x_test, y_test = generate_xy(data_test, time_steps)\n",
    "#x_train, x_test = data_x.iloc[:row_split,:], data_x.iloc[row_split:,:]\n",
    "#y_train, y_test = data_y.iloc[:row_split], data_y.iloc[row_split:]\n",
    "#x_train = np.reshape(x_train, (row_split, time_steps, 1))\n",
    "#x_test = np.reshape(x_test, (data_len - row_split, time_steps, 1))"
   ]
  },
  {
   "cell_type": "code",
   "execution_count": 450,
   "id": "6d641e00",
   "metadata": {},
   "outputs": [],
   "source": [
    "batch_size = 1\n",
    "def nn(hidden_units, dense_units, input_shape, activation):    \n",
    "    model = Sequential()\n",
    "#     model.add(SimpleRNN(hidden_units, input_shape=input_shape, \n",
    "#                         activation=activation[0]))\n",
    "    model.add(LSTM(4, batch_input_shape=(batch_size, time_steps, 10), stateful=True, return_sequences=True))\n",
    "    model.add(LSTM(4, batch_input_shape=(batch_size, time_steps, 10), stateful=True))\n",
    "    model.add(Dense(units=dense_units, activation=activation[1]))\n",
    "    model.compile(loss='mean_squared_error', optimizer='adam')\n",
    "    return model"
   ]
  },
  {
   "cell_type": "code",
   "execution_count": 442,
   "id": "eab488c5",
   "metadata": {
    "scrolled": false
   },
   "outputs": [
    {
     "name": "stdout",
     "output_type": "stream",
     "text": [
      "Epoch 1/20\n",
      "451/451 - 4s - loss: 0.0181\n",
      "Epoch 2/20\n",
      "451/451 - 3s - loss: 0.0016\n",
      "Epoch 3/20\n",
      "451/451 - 3s - loss: 0.0016\n",
      "Epoch 4/20\n",
      "451/451 - 3s - loss: 0.0015\n",
      "Epoch 5/20\n",
      "451/451 - 2s - loss: 0.0015\n",
      "Epoch 6/20\n",
      "451/451 - 3s - loss: 0.0015\n",
      "Epoch 7/20\n",
      "451/451 - 3s - loss: 0.0015\n",
      "Epoch 8/20\n",
      "451/451 - 3s - loss: 0.0015\n",
      "Epoch 9/20\n",
      "451/451 - 3s - loss: 0.0015\n",
      "Epoch 10/20\n",
      "451/451 - 2s - loss: 0.0015\n",
      "Epoch 11/20\n",
      "451/451 - 3s - loss: 0.0015\n",
      "Epoch 12/20\n",
      "451/451 - 3s - loss: 0.0015\n",
      "Epoch 13/20\n",
      "451/451 - 3s - loss: 0.0015\n",
      "Epoch 14/20\n",
      "451/451 - 3s - loss: 0.0015\n",
      "Epoch 15/20\n",
      "451/451 - 2s - loss: 0.0015\n",
      "Epoch 16/20\n",
      "451/451 - 3s - loss: 0.0015\n",
      "Epoch 17/20\n",
      "451/451 - 3s - loss: 0.0015\n",
      "Epoch 18/20\n",
      "451/451 - 3s - loss: 0.0015\n",
      "Epoch 19/20\n",
      "451/451 - 3s - loss: 0.0015\n",
      "Epoch 20/20\n",
      "451/451 - 3s - loss: 0.0015\n"
     ]
    },
    {
     "data": {
      "text/plain": [
       "<keras.callbacks.History at 0x238ef648850>"
      ]
     },
     "execution_count": 442,
     "metadata": {},
     "output_type": "execute_result"
    }
   ],
   "source": [
    "model = nn(hidden_units=16, dense_units=1, input_shape=(time_steps, 10), \n",
    "                   activation=['relu', 'linear'])\n",
    "model.fit(x_train, y_train, epochs=20, batch_size=1, verbose=2)\n",
    "#model.fit(x_train, y_train, epochs=20, batch_size=1, verbose=2)"
   ]
  },
  {
   "cell_type": "code",
   "execution_count": 474,
   "id": "895bd1da",
   "metadata": {
    "scrolled": true
   },
   "outputs": [
    {
     "name": "stdout",
     "output_type": "stream",
     "text": [
      "Train RMSE: 237.397 RMSE\n",
      "Test RMSE: 542.776 RMSE\n"
     ]
    }
   ],
   "source": [
    "def print_error(trainY, testY, train_predict, test_predict):\n",
    "    # Error of predictions\n",
    "    train_rmse = math.sqrt(mean_squared_error(trainY, train_predict))\n",
    "    test_rmse = math.sqrt(mean_squared_error(testY, test_predict))\n",
    "    # Print RMSE\n",
    "    print('Train RMSE: %.3f RMSE' % (train_rmse))\n",
    "    print('Test RMSE: %.3f RMSE' % (test_rmse))\n",
    " \n",
    "# predictions\n",
    "train_predict = model.predict(x_train, batch_size = 1)\n",
    "test_predict = model.predict(x_test, batch_size = 1)\n",
    "train_predict = scaler_fitted.inverse_transform(train_predict)\n",
    "y_train = scaler_fitted.inverse_transform([y_train])\n",
    "test_predict = scaler_fitted.inverse_transform(test_predict)\n",
    "y_test = scaler_fitted.inverse_transform([y_test])\n",
    "# Mean square error\n",
    "print_error(y_train.reshape(451, 1), y_test.reshape(193, 1), train_predict, test_predict)"
   ]
  },
  {
   "cell_type": "code",
   "execution_count": 475,
   "id": "48e5b7fd",
   "metadata": {},
   "outputs": [
    {
     "data": {
      "image/png": "[encoded data removed]",
      "text/plain": [
       "<Figure size 1200x480 with 1 Axes>"
      ]
     },
     "metadata": {
      "needs_background": "light"
     },
     "output_type": "display_data"
    }
   ],
   "source": [
    "def plot_result(trainY, testY, train_predict, test_predict):\n",
    "    actual = np.append(trainY, testY)\n",
    "    predictions = np.append(train_predict, test_predict)\n",
    "    rows = len(actual)\n",
    "    plt.figure(figsize=(15, 6), dpi=80)\n",
    "    plt.plot(range(rows), actual)\n",
    "    plt.plot(range(rows), predictions)\n",
    "    plt.axvline(x=len(trainY), color='r')\n",
    "    plt.legend(['Actual', 'Predictions'])\n",
    "    plt.xlabel('Observation number after given time steps')\n",
    "    plt.ylabel('Reward')\n",
    "    plt.title('Actual and Predicted Values. The Red Line Separates The Training And Test Examples')\n",
    "plot_result(y_train, y_test, train_predict, test_predict)"
   ]
  },
  {
   "cell_type": "code",
   "execution_count": 197,
   "id": "c2ec6cf1",
   "metadata": {},
   "outputs": [],
   "source": [
    "# Declare parameters\n",
    "n_random_agents= 2\n",
    "n_investor_agents = 0\n",
    "n_trend_agents = 2\n",
    "n_rl_agents = 0\n",
    "\n",
    "n_agents = n_random_agents + n_investor_agents + n_trend_agents + n_rl_agents\n",
    "\n",
    "\n",
    "time_periods = 50\n",
    "\n",
    "price_list = [100 + np.random.normal() for j in range(100)]\n",
    "ex_list = np.array([[0]*n_agents, [0]*n_agents])\n",
    "fee = 0\n",
    "slippage = 0\n",
    "mean_buy_price = 99\n",
    "mean_sell_price = 101\n",
    "\n",
    "state0 = {\"market_prices\": price_list, \"execution_status\": ex_list, 'fee':fee, \"mean_buy_price\":mean_buy_price,\n",
    "          \"mean_sell_price\":mean_sell_price, 'slippage':slippage}\n",
    "\n",
    "env = MarketEnvironment(state0)\n",
    "agents = []\n",
    "\n",
    "random_agents = [RandomAgent(agent_id = j,\n",
    "                             delta = np.random.normal()) for j in range(n_random_agents)]\n",
    "\n",
    "investor_agents = [InvestorAgent(agent_id = j + n_random_agents,\n",
    "                                 delta = np.random.normal(),\n",
    "                                 intensity = 0.1) for j in range(n_investor_agents)]\n",
    "\n",
    "trend_agents = [TrendAgent(agent_id = j + n_random_agents + n_investor_agents,\n",
    "                                 delta = np.random.normal()) for j in range(n_trend_agents)]\n",
    "\n",
    "rl_agents = [RLAgent(agent_id = j + n_random_agents + n_investor_agents + n_trend_agents,\n",
    "                                 delta = np.random.normal()) for j in range(n_rl_agents)]\n",
    "\n",
    "agents.append(random_agents)\n",
    "agents.append(investor_agents)\n",
    "agents.append(trend_agents)\n",
    "agents.append(rl_agents)\n",
    "\n",
    "agents = [item for sublist in agents for item in sublist]\n",
    "\n",
    "# Initialize agents\n",
    "for j in range(n_agents):\n",
    "        agents[j].update(state0)"
   ]
  },
  {
   "cell_type": "code",
   "execution_count": 208,
   "id": "chief-tunisia",
   "metadata": {
    "scrolled": true
   },
   "outputs": [],
   "source": [
    "# INITIALIZE ORDER BOOKS\n",
    "sell_order_book = agents[0].sell_order\n",
    "buy_order_book = agents[0].buy_order\n",
    "sell_order_book = pd.DataFrame(sell_order_book, index = sell_order_book.iloc[:, -1])\n",
    "buy_order_book = pd.DataFrame(buy_order_book, index = buy_order_book.iloc[:, -1])\n",
    "\n",
    "for i in range(len(agents)-1):\n",
    "    #========================================#\n",
    "    # CHECK IF AGENT i CAN MAKE A BUY TRADE #\n",
    "    #========================================#\n",
    "    if any(agents[i+1].buy_order[\"buy_price\"].values >= sell_order_book.iloc[:, 0].values):\n",
    "        print(\"price_match: \", agents[i+1].buy_order[\"buy_price\"].values, sell_order_book.iloc[:, 0].values)\n",
    "        \n",
    "        matched_order_book = sell_order_book[sell_order_book[\"sell_price\"].values <= agents[i+1].buy_order[\"buy_price\"].values]\n",
    "        matched_order_book = matched_order_book.sort_values([\"sell_price\", \"latency\"], ascending = [True, True])\n",
    "        display(sell_order_book)\n",
    "        display(agents[i+1].buy_order)\n",
    "        for index, order in matched_order_book.iterrows():\n",
    "            if agents[i+1].buy_order[\"buy_volume\"].values > order[\"sell_volume\"]:\n",
    "                trade_volume = order[\"sell_volume\"].copy()\n",
    "            else:\n",
    "                trade_volume = agents[i+1].buy_order[\"buy_volume\"].values.copy()\n",
    "            \n",
    "            agents[i+1].buy_order[\"buy_volume\"] -= trade_volume\n",
    "            agents[int(order[\"agent_id\"])].sell_order[\"sell_volume\"] -= trade_volume\n",
    "            sell_order_book.at[index, 'sell_volume'] -= trade_volume\n",
    "            \n",
    "            agents[i+1].position += trade_volume\n",
    "            agents[int(order[\"agent_id\"])].position -= trade_volume\n",
    "            \n",
    "    # SELL ORDER INTO SELL ORDER\n",
    "    sell_order_book = sell_order_book[sell_order_book[\"sell_volume\"] > 0]\n",
    "    if agents[i+1].buy_order[\"buy_volume\"].values > 0:\n",
    "        buy_order_book = buy_order_book.append(agents[i+1].buy_order)\n",
    "    \n",
    "    sell_order_book = pd.DataFrame(sell_order_book, index = sell_order_book.iloc[:, -1])\n",
    "    buy_order_book = pd.DataFrame(buy_order_book, index = buy_order_book.iloc[:, -1])\n",
    "    \n",
    "    #========================================#\n",
    "    # CHECK IF AGENT i CAN MAKE A SELL TRADE #\n",
    "    #========================================#\n",
    "    if any(agents[i+1].sell_order[\"sell_price\"].values <= buy_order_book.iloc[:, 0].values):\n",
    "        print(\"price_match: \", agents[i+1].sell_order[\"sell_price\"].values, buy_order_book.iloc[:, 0].values)\n",
    "        \n",
    "        matched_order_book = buy_order_book[buy_order_book[\"buy_price\"].values >= agents[i+1].sell_order[\"sell_price\"].values]\n",
    "        matched_order_book = matched_order_book.sort_values([\"buy_price\", \"latency\"], ascending = [True, True])\n",
    "        display(matched_order_book)\n",
    "        for index, order in matched_order_book.iterrows():\n",
    "            if agents[i+1].sell_order[\"sell_volume\"].values > order[\"buy_volume\"]:\n",
    "                trade_volume = order[\"buy_volume\"].copy()\n",
    "            else:\n",
    "                trade_volume = agents[i+1].sell_order[\"sell_volume\"].values.copy()\n",
    "            print(sell_order_book, \" INDEX: \", index, \" AGENT ID: \", order[\"agent_id\"])\n",
    "            \n",
    "            agents[i+1].sell_order[\"sell_volume\"] -= trade_volume\n",
    "            agents[int(order[\"agent_id\"])].buy_order[\"buy_volume\"] -= trade_volume\n",
    "            buy_order_book.at[index, 'buy_volume'] -= trade_volume\n",
    "            \n",
    "            agents[i+1].position -= trade_volume\n",
    "            agents[int(order[\"agent_id\"])].position = trade_volume\n",
    "            # agents[sob[\"ID\"]].all_trades.append([order[\"BP\"], - trade_volume])\n",
    "\n",
    "    # buy ORDER INTO buy ORDER\n",
    "    buy_order_book = buy_order_book[buy_order_book[\"buy_volume\"] > 0]\n",
    "    if agents[i+1].sell_order[\"sell_volume\"].values > 0:\n",
    "        sell_order_book = sell_order_book.append(agents[i+1].sell_order)    \n",
    "    \n",
    "    sell_order_book = pd.DataFrame(sell_order_book, index = sell_order_book.iloc[:, -1])\n",
    "    buy_order_book = pd.DataFrame(buy_order_book, index = buy_order_book.iloc[:, -1])\n"
   ]
  },
  {
   "cell_type": "code",
   "execution_count": 204,
   "id": "4da43407",
   "metadata": {},
   "outputs": [
    {
     "data": {
      "text/plain": [
       "-1.0"
      ]
     },
     "execution_count": 204,
     "metadata": {},
     "output_type": "execute_result"
    }
   ],
   "source": [
    "agents[1].position"
   ]
  },
  {
   "cell_type": "code",
   "execution_count": 209,
   "id": "1c17100c",
   "metadata": {
    "scrolled": true
   },
   "outputs": [
    {
     "data": {
      "text/html": [
       "<div>\n",
       "<style scoped>\n",
       "    .dataframe tbody tr th:only-of-type {\n",
       "        vertical-align: middle;\n",
       "    }\n",
       "\n",
       "    .dataframe tbody tr th {\n",
       "        vertical-align: top;\n",
       "    }\n",
       "\n",
       "    .dataframe thead th {\n",
       "        text-align: right;\n",
       "    }\n",
       "</style>\n",
       "<table border=\"1\" class=\"dataframe\">\n",
       "  <thead>\n",
       "    <tr style=\"text-align: right;\">\n",
       "      <th></th>\n",
       "      <th>buy_price</th>\n",
       "      <th>buy_volume</th>\n",
       "      <th>latency</th>\n",
       "      <th>agent_id</th>\n",
       "    </tr>\n",
       "    <tr>\n",
       "      <th>agent_id</th>\n",
       "      <th></th>\n",
       "      <th></th>\n",
       "      <th></th>\n",
       "      <th></th>\n",
       "    </tr>\n",
       "  </thead>\n",
       "  <tbody>\n",
       "    <tr>\n",
       "      <th>0.0</th>\n",
       "      <td>98.466502</td>\n",
       "      <td>1.0</td>\n",
       "      <td>0.984619</td>\n",
       "      <td>0.0</td>\n",
       "    </tr>\n",
       "    <tr>\n",
       "      <th>1.0</th>\n",
       "      <td>96.864411</td>\n",
       "      <td>1.0</td>\n",
       "      <td>0.580663</td>\n",
       "      <td>1.0</td>\n",
       "    </tr>\n",
       "    <tr>\n",
       "      <th>2.0</th>\n",
       "      <td>105.220009</td>\n",
       "      <td>5.0</td>\n",
       "      <td>2.441061</td>\n",
       "      <td>2.0</td>\n",
       "    </tr>\n",
       "    <tr>\n",
       "      <th>3.0</th>\n",
       "      <td>107.921702</td>\n",
       "      <td>3.0</td>\n",
       "      <td>-0.965091</td>\n",
       "      <td>3.0</td>\n",
       "    </tr>\n",
       "  </tbody>\n",
       "</table>\n",
       "</div>"
      ],
      "text/plain": [
       "           buy_price  buy_volume   latency  agent_id\n",
       "agent_id                                            \n",
       "0.0        98.466502         1.0  0.984619       0.0\n",
       "1.0        96.864411         1.0  0.580663       1.0\n",
       "2.0       105.220009         5.0  2.441061       2.0\n",
       "3.0       107.921702         3.0 -0.965091       3.0"
      ]
     },
     "metadata": {},
     "output_type": "display_data"
    },
    {
     "data": {
      "text/html": [
       "<div>\n",
       "<style scoped>\n",
       "    .dataframe tbody tr th:only-of-type {\n",
       "        vertical-align: middle;\n",
       "    }\n",
       "\n",
       "    .dataframe tbody tr th {\n",
       "        vertical-align: top;\n",
       "    }\n",
       "\n",
       "    .dataframe thead th {\n",
       "        text-align: right;\n",
       "    }\n",
       "</style>\n",
       "<table border=\"1\" class=\"dataframe\">\n",
       "  <thead>\n",
       "    <tr style=\"text-align: right;\">\n",
       "      <th></th>\n",
       "      <th>sell_price</th>\n",
       "      <th>sell_volume</th>\n",
       "      <th>latency</th>\n",
       "      <th>agent_id</th>\n",
       "    </tr>\n",
       "    <tr>\n",
       "      <th>agent_id</th>\n",
       "      <th></th>\n",
       "      <th></th>\n",
       "      <th></th>\n",
       "      <th></th>\n",
       "    </tr>\n",
       "  </thead>\n",
       "  <tbody>\n",
       "  </tbody>\n",
       "</table>\n",
       "</div>"
      ],
      "text/plain": [
       "Empty DataFrame\n",
       "Columns: [sell_price, sell_volume, latency, agent_id]\n",
       "Index: []"
      ]
     },
     "metadata": {},
     "output_type": "display_data"
    }
   ],
   "source": [
    "display(buy_order_book)\n",
    "display(sell_order_book)"
   ]
  },
  {
   "cell_type": "code",
   "execution_count": 210,
   "id": "4da6c15d",
   "metadata": {},
   "outputs": [
    {
     "data": {
      "text/html": [
       "<div>\n",
       "<style scoped>\n",
       "    .dataframe tbody tr th:only-of-type {\n",
       "        vertical-align: middle;\n",
       "    }\n",
       "\n",
       "    .dataframe tbody tr th {\n",
       "        vertical-align: top;\n",
       "    }\n",
       "\n",
       "    .dataframe thead th {\n",
       "        text-align: right;\n",
       "    }\n",
       "</style>\n",
       "<table border=\"1\" class=\"dataframe\">\n",
       "  <thead>\n",
       "    <tr style=\"text-align: right;\">\n",
       "      <th></th>\n",
       "      <th>sell_price</th>\n",
       "      <th>sell_volume</th>\n",
       "      <th>latency</th>\n",
       "      <th>agent_id</th>\n",
       "    </tr>\n",
       "  </thead>\n",
       "  <tbody>\n",
       "    <tr>\n",
       "      <th>0</th>\n",
       "      <td>110.508789</td>\n",
       "      <td>0.0</td>\n",
       "      <td>0.984619</td>\n",
       "      <td>0.0</td>\n",
       "    </tr>\n",
       "  </tbody>\n",
       "</table>\n",
       "</div>"
      ],
      "text/plain": [
       "   sell_price  sell_volume   latency  agent_id\n",
       "0  110.508789          0.0  0.984619       0.0"
      ]
     },
     "metadata": {},
     "output_type": "display_data"
    },
    {
     "data": {
      "text/html": [
       "<div>\n",
       "<style scoped>\n",
       "    .dataframe tbody tr th:only-of-type {\n",
       "        vertical-align: middle;\n",
       "    }\n",
       "\n",
       "    .dataframe tbody tr th {\n",
       "        vertical-align: top;\n",
       "    }\n",
       "\n",
       "    .dataframe thead th {\n",
       "        text-align: right;\n",
       "    }\n",
       "</style>\n",
       "<table border=\"1\" class=\"dataframe\">\n",
       "  <thead>\n",
       "    <tr style=\"text-align: right;\">\n",
       "      <th></th>\n",
       "      <th>sell_price</th>\n",
       "      <th>sell_volume</th>\n",
       "      <th>latency</th>\n",
       "      <th>agent_id</th>\n",
       "    </tr>\n",
       "  </thead>\n",
       "  <tbody>\n",
       "    <tr>\n",
       "      <th>1</th>\n",
       "      <td>107.524955</td>\n",
       "      <td>0.0</td>\n",
       "      <td>0.580663</td>\n",
       "      <td>1.0</td>\n",
       "    </tr>\n",
       "  </tbody>\n",
       "</table>\n",
       "</div>"
      ],
      "text/plain": [
       "   sell_price  sell_volume   latency  agent_id\n",
       "1  107.524955          0.0  0.580663       1.0"
      ]
     },
     "metadata": {},
     "output_type": "display_data"
    },
    {
     "data": {
      "text/html": [
       "<div>\n",
       "<style scoped>\n",
       "    .dataframe tbody tr th:only-of-type {\n",
       "        vertical-align: middle;\n",
       "    }\n",
       "\n",
       "    .dataframe tbody tr th {\n",
       "        vertical-align: top;\n",
       "    }\n",
       "\n",
       "    .dataframe thead th {\n",
       "        text-align: right;\n",
       "    }\n",
       "</style>\n",
       "<table border=\"1\" class=\"dataframe\">\n",
       "  <thead>\n",
       "    <tr style=\"text-align: right;\">\n",
       "      <th></th>\n",
       "      <th>sell_price</th>\n",
       "      <th>sell_volume</th>\n",
       "      <th>latency</th>\n",
       "      <th>agent_id</th>\n",
       "    </tr>\n",
       "  </thead>\n",
       "  <tbody>\n",
       "    <tr>\n",
       "      <th>2</th>\n",
       "      <td>NaN</td>\n",
       "      <td>0.0</td>\n",
       "      <td>2.441061</td>\n",
       "      <td>2.0</td>\n",
       "    </tr>\n",
       "  </tbody>\n",
       "</table>\n",
       "</div>"
      ],
      "text/plain": [
       "   sell_price  sell_volume   latency  agent_id\n",
       "2         NaN          0.0  2.441061       2.0"
      ]
     },
     "metadata": {},
     "output_type": "display_data"
    },
    {
     "data": {
      "text/html": [
       "<div>\n",
       "<style scoped>\n",
       "    .dataframe tbody tr th:only-of-type {\n",
       "        vertical-align: middle;\n",
       "    }\n",
       "\n",
       "    .dataframe tbody tr th {\n",
       "        vertical-align: top;\n",
       "    }\n",
       "\n",
       "    .dataframe thead th {\n",
       "        text-align: right;\n",
       "    }\n",
       "</style>\n",
       "<table border=\"1\" class=\"dataframe\">\n",
       "  <thead>\n",
       "    <tr style=\"text-align: right;\">\n",
       "      <th></th>\n",
       "      <th>sell_price</th>\n",
       "      <th>sell_volume</th>\n",
       "      <th>latency</th>\n",
       "      <th>agent_id</th>\n",
       "    </tr>\n",
       "  </thead>\n",
       "  <tbody>\n",
       "    <tr>\n",
       "      <th>3</th>\n",
       "      <td>NaN</td>\n",
       "      <td>0.0</td>\n",
       "      <td>-0.965091</td>\n",
       "      <td>3.0</td>\n",
       "    </tr>\n",
       "  </tbody>\n",
       "</table>\n",
       "</div>"
      ],
      "text/plain": [
       "   sell_price  sell_volume   latency  agent_id\n",
       "3         NaN          0.0 -0.965091       3.0"
      ]
     },
     "metadata": {},
     "output_type": "display_data"
    },
    {
     "data": {
      "text/html": [
       "<div>\n",
       "<style scoped>\n",
       "    .dataframe tbody tr th:only-of-type {\n",
       "        vertical-align: middle;\n",
       "    }\n",
       "\n",
       "    .dataframe tbody tr th {\n",
       "        vertical-align: top;\n",
       "    }\n",
       "\n",
       "    .dataframe thead th {\n",
       "        text-align: right;\n",
       "    }\n",
       "</style>\n",
       "<table border=\"1\" class=\"dataframe\">\n",
       "  <thead>\n",
       "    <tr style=\"text-align: right;\">\n",
       "      <th></th>\n",
       "      <th>buy_price</th>\n",
       "      <th>buy_volume</th>\n",
       "      <th>latency</th>\n",
       "      <th>agent_id</th>\n",
       "    </tr>\n",
       "  </thead>\n",
       "  <tbody>\n",
       "    <tr>\n",
       "      <th>0</th>\n",
       "      <td>98.466502</td>\n",
       "      <td>1.0</td>\n",
       "      <td>0.984619</td>\n",
       "      <td>0.0</td>\n",
       "    </tr>\n",
       "  </tbody>\n",
       "</table>\n",
       "</div>"
      ],
      "text/plain": [
       "   buy_price  buy_volume   latency  agent_id\n",
       "0  98.466502         1.0  0.984619       0.0"
      ]
     },
     "metadata": {},
     "output_type": "display_data"
    },
    {
     "data": {
      "text/html": [
       "<div>\n",
       "<style scoped>\n",
       "    .dataframe tbody tr th:only-of-type {\n",
       "        vertical-align: middle;\n",
       "    }\n",
       "\n",
       "    .dataframe tbody tr th {\n",
       "        vertical-align: top;\n",
       "    }\n",
       "\n",
       "    .dataframe thead th {\n",
       "        text-align: right;\n",
       "    }\n",
       "</style>\n",
       "<table border=\"1\" class=\"dataframe\">\n",
       "  <thead>\n",
       "    <tr style=\"text-align: right;\">\n",
       "      <th></th>\n",
       "      <th>buy_price</th>\n",
       "      <th>buy_volume</th>\n",
       "      <th>latency</th>\n",
       "      <th>agent_id</th>\n",
       "    </tr>\n",
       "  </thead>\n",
       "  <tbody>\n",
       "    <tr>\n",
       "      <th>1</th>\n",
       "      <td>96.864411</td>\n",
       "      <td>1.0</td>\n",
       "      <td>0.580663</td>\n",
       "      <td>1.0</td>\n",
       "    </tr>\n",
       "  </tbody>\n",
       "</table>\n",
       "</div>"
      ],
      "text/plain": [
       "   buy_price  buy_volume   latency  agent_id\n",
       "1  96.864411         1.0  0.580663       1.0"
      ]
     },
     "metadata": {},
     "output_type": "display_data"
    },
    {
     "data": {
      "text/html": [
       "<div>\n",
       "<style scoped>\n",
       "    .dataframe tbody tr th:only-of-type {\n",
       "        vertical-align: middle;\n",
       "    }\n",
       "\n",
       "    .dataframe tbody tr th {\n",
       "        vertical-align: top;\n",
       "    }\n",
       "\n",
       "    .dataframe thead th {\n",
       "        text-align: right;\n",
       "    }\n",
       "</style>\n",
       "<table border=\"1\" class=\"dataframe\">\n",
       "  <thead>\n",
       "    <tr style=\"text-align: right;\">\n",
       "      <th></th>\n",
       "      <th>buy_price</th>\n",
       "      <th>buy_volume</th>\n",
       "      <th>latency</th>\n",
       "      <th>agent_id</th>\n",
       "    </tr>\n",
       "  </thead>\n",
       "  <tbody>\n",
       "    <tr>\n",
       "      <th>2</th>\n",
       "      <td>105.220009</td>\n",
       "      <td>5.0</td>\n",
       "      <td>2.441061</td>\n",
       "      <td>2.0</td>\n",
       "    </tr>\n",
       "  </tbody>\n",
       "</table>\n",
       "</div>"
      ],
      "text/plain": [
       "    buy_price  buy_volume   latency  agent_id\n",
       "2  105.220009         5.0  2.441061       2.0"
      ]
     },
     "metadata": {},
     "output_type": "display_data"
    },
    {
     "data": {
      "text/html": [
       "<div>\n",
       "<style scoped>\n",
       "    .dataframe tbody tr th:only-of-type {\n",
       "        vertical-align: middle;\n",
       "    }\n",
       "\n",
       "    .dataframe tbody tr th {\n",
       "        vertical-align: top;\n",
       "    }\n",
       "\n",
       "    .dataframe thead th {\n",
       "        text-align: right;\n",
       "    }\n",
       "</style>\n",
       "<table border=\"1\" class=\"dataframe\">\n",
       "  <thead>\n",
       "    <tr style=\"text-align: right;\">\n",
       "      <th></th>\n",
       "      <th>buy_price</th>\n",
       "      <th>buy_volume</th>\n",
       "      <th>latency</th>\n",
       "      <th>agent_id</th>\n",
       "    </tr>\n",
       "  </thead>\n",
       "  <tbody>\n",
       "    <tr>\n",
       "      <th>3</th>\n",
       "      <td>107.921702</td>\n",
       "      <td>3.0</td>\n",
       "      <td>-0.965091</td>\n",
       "      <td>3.0</td>\n",
       "    </tr>\n",
       "  </tbody>\n",
       "</table>\n",
       "</div>"
      ],
      "text/plain": [
       "    buy_price  buy_volume   latency  agent_id\n",
       "3  107.921702         3.0 -0.965091       3.0"
      ]
     },
     "metadata": {},
     "output_type": "display_data"
    }
   ],
   "source": [
    "display(agents[0].sell_order)\n",
    "display(agents[1].sell_order)\n",
    "display(agents[2].sell_order)\n",
    "display(agents[3].sell_order)\n",
    "display(agents[0].buy_order)\n",
    "display(agents[1].buy_order)\n",
    "display(agents[2].buy_order)\n",
    "display(agents[3].buy_order)"
   ]
  },
  {
   "cell_type": "code",
   "execution_count": null,
   "id": "modern-portuguese",
   "metadata": {},
   "outputs": [],
   "source": []
  },
  {
   "cell_type": "code",
   "execution_count": null,
   "id": "mighty-forest",
   "metadata": {},
   "outputs": [],
   "source": []
  }
 ],
 "metadata": {
  "kernelspec": {
   "display_name": "Python 3",
   "language": "python",
   "name": "python3"
  },
  "language_info": {
   "codemirror_mode": {
    "name": "ipython",
    "version": 3
   },
   "file_extension": ".py",
   "mimetype": "text/x-python",
   "name": "python",
   "nbconvert_exporter": "python",
   "pygments_lexer": "ipython3",
   "version": "3.8.8"
  }
 },
 "nbformat": 4,
 "nbformat_minor": 5
}
