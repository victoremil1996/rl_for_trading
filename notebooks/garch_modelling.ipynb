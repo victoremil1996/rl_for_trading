{
 "cells": [
  {
   "cell_type": "code",
   "execution_count": 1,
   "metadata": {},
   "outputs": [],
   "source": [
    "\"\"\"\n",
    "Magic commands\n",
    "\"\"\"\n",
    "%matplotlib inline\n",
    "%load_ext autoreload\n",
    "%autoreload 2\n",
    "\n",
    "\"\"\"\n",
    "Python standard packages\n",
    "\"\"\"\n",
    "import os\n",
    "import sys\n",
    "\n",
    "import numpy as np\n",
    "import pandas as pd\n",
    "import matplotlib.pyplot as plt\n",
    "\n",
    "\"\"\"\n",
    "packages for dataload and simulation\n",
    "\"\"\"\n",
    "import ffn # data access\n",
    "from arch import arch_model  # simulation\n",
    "from arch.univariate import SkewStudent, GARCH, EGARCH, ARX\n",
    "\"\"\"\n",
    "Own packages\n",
    "\"\"\"\n",
    "sys.path.insert(0, \"C:\\\\code\\\\speciale\\\\\") # vesl path\n",
    "sys.path.insert(0, \"C:\\\\Users\\\\lucas\\\\OneDrive\\\\Skrivebord\\\\repo\\\\speciale\\\\\") # ljb path\n",
    "\n",
    "import codelib  # used for extending pandas\n",
    "\n",
    "\"\"\"\n",
    "ignore warnings\n",
    "\"\"\"\n",
    "import warnings\n",
    "warnings.simplefilter(action='ignore', category=FutureWarning)"
   ]
  },
  {
   "cell_type": "markdown",
   "metadata": {},
   "source": [
    "## Load and manipulate data"
   ]
  },
  {
   "cell_type": "code",
   "execution_count": 11,
   "metadata": {},
   "outputs": [],
   "source": [
    "prices = ffn.get('aapl,msft, fing-b.st', start = '2018-01-01')\n",
    "returns = prices.to_returns().dropna()\n",
    "log_returns = prices.to_log_returns().dropna()\n",
    "cum_returns = prices.rebase()"
   ]
  },
  {
   "cell_type": "markdown",
   "metadata": {},
   "source": [
    "## Modelling and simulation"
   ]
  },
  {
   "cell_type": "code",
   "execution_count": 22,
   "metadata": {},
   "outputs": [
    {
     "name": "stdout",
     "output_type": "stream",
     "text": [
      "Iteration:      1,   Func. Count:     13,   Neg. LLF: 28779.899046160324\n",
      "Iteration:      2,   Func. Count:     29,   Neg. LLF: 31790.684036207476\n",
      "Iteration:      3,   Func. Count:     45,   Neg. LLF: 26757.050531541543\n",
      "Iteration:      4,   Func. Count:     61,   Neg. LLF: 12491.57736322355\n",
      "Iteration:      5,   Func. Count:     76,   Neg. LLF: 103751.94926655166\n",
      "Iteration:      6,   Func. Count:     91,   Neg. LLF: 88665.70540568433\n",
      "Iteration:      7,   Func. Count:    105,   Neg. LLF: 27765.813840316594\n",
      "Iteration:      8,   Func. Count:    119,   Neg. LLF: 16294.975239299098\n",
      "Iteration:      9,   Func. Count:    134,   Neg. LLF: 18769.53335632266\n",
      "Iteration:     10,   Func. Count:    148,   Neg. LLF: 3859.88797457839\n",
      "Iteration:     11,   Func. Count:    163,   Neg. LLF: 3081.684047334757\n",
      "Iteration:     12,   Func. Count:    176,   Neg. LLF: 2090.1875161969233\n",
      "Iteration:     13,   Func. Count:    189,   Neg. LLF: 2089.8296071115738\n",
      "Iteration:     14,   Func. Count:    201,   Neg. LLF: 2089.8222387033466\n",
      "Iteration:     15,   Func. Count:    213,   Neg. LLF: 2089.820807027266\n",
      "Iteration:     16,   Func. Count:    225,   Neg. LLF: 2089.819792123755\n",
      "Iteration:     17,   Func. Count:    237,   Neg. LLF: 2089.8184914966473\n",
      "Iteration:     18,   Func. Count:    249,   Neg. LLF: 2089.8186716827095\n",
      "Iteration:     19,   Func. Count:    263,   Neg. LLF: 2089.818314200342\n",
      "Iteration:     20,   Func. Count:    275,   Neg. LLF: 2089.8182788536305\n",
      "Iteration:     21,   Func. Count:    287,   Neg. LLF: 2089.8182920356717\n",
      "Iteration:     22,   Func. Count:    300,   Neg. LLF: 2089.818269722555\n",
      "Iteration:     23,   Func. Count:    312,   Neg. LLF: 2089.8183170189386\n",
      "Iteration:     24,   Func. Count:    326,   Neg. LLF: 2089.818447953145\n",
      "Optimization terminated successfully    (Exit mode 0)\n",
      "            Current function value: 2089.8182682083443\n",
      "            Iterations: 24\n",
      "            Function evaluations: 329\n",
      "            Gradient evaluations: 24\n"
     ]
    },
    {
     "ename": "AttributeError",
     "evalue": "'ARCHModelResult' object has no attribute 'simulate'",
     "output_type": "error",
     "traceback": [
      "\u001b[1;31m---------------------------------------------------------------------------\u001b[0m",
      "\u001b[1;31mAttributeError\u001b[0m                            Traceback (most recent call last)",
      "\u001b[1;32m<ipython-input-22-0588a5dcc1ab>\u001b[0m in \u001b[0;36m<module>\u001b[1;34m\u001b[0m\n\u001b[0;32m     23\u001b[0m \u001b[1;33m\u001b[0m\u001b[0m\n\u001b[0;32m     24\u001b[0m \u001b[1;32mfor\u001b[0m \u001b[0m_\u001b[0m \u001b[1;32min\u001b[0m \u001b[0mrange\u001b[0m\u001b[1;33m(\u001b[0m\u001b[0mn_sims\u001b[0m\u001b[1;33m)\u001b[0m\u001b[1;33m:\u001b[0m\u001b[1;33m\u001b[0m\u001b[1;33m\u001b[0m\u001b[0m\n\u001b[1;32m---> 25\u001b[1;33m     \u001b[0msimulation\u001b[0m \u001b[1;33m=\u001b[0m \u001b[0mam_fit\u001b[0m\u001b[1;33m.\u001b[0m\u001b[0msimulate\u001b[0m\u001b[1;33m(\u001b[0m\u001b[0mparams\u001b[0m \u001b[1;33m=\u001b[0m \u001b[0mam_fit\u001b[0m\u001b[1;33m.\u001b[0m\u001b[0mparams\u001b[0m\u001b[1;33m,\u001b[0m \u001b[0mnobs\u001b[0m \u001b[1;33m=\u001b[0m \u001b[0mn_time_points\u001b[0m\u001b[1;33m)\u001b[0m \u001b[1;33m/\u001b[0m \u001b[1;36m100\u001b[0m\u001b[1;33m\u001b[0m\u001b[1;33m\u001b[0m\u001b[0m\n\u001b[0m\u001b[0;32m     26\u001b[0m     \u001b[0msim_prices\u001b[0m \u001b[1;33m=\u001b[0m \u001b[0msimulation\u001b[0m\u001b[1;33m.\u001b[0m\u001b[0mdata\u001b[0m\u001b[1;33m.\u001b[0m\u001b[0mto_price_index\u001b[0m\u001b[1;33m(\u001b[0m\u001b[1;33m)\u001b[0m\u001b[1;33m\u001b[0m\u001b[1;33m\u001b[0m\u001b[0m\n\u001b[0;32m     27\u001b[0m \u001b[1;33m\u001b[0m\u001b[0m\n",
      "\u001b[1;31mAttributeError\u001b[0m: 'ARCHModelResult' object has no attribute 'simulate'"
     ]
    }
   ],
   "source": [
    "# FIT MODEL\n",
    "rs = np.random.RandomState([0])\n",
    "\n",
    "n_sims = 30\n",
    "stock = 'aapl'\n",
    "n_time_points = 1000\n",
    "\n",
    "# Model specification\n",
    "dist = SkewStudent(random_state = rs)\n",
    "vol = EGARCH()\n",
    "lag = [1, 2, 3, 4, 5]\n",
    "\n",
    "# Model calibration\n",
    "am = ARX(returns[stock] * 100, lags = lag, volatility = vol, distribution = dist)\n",
    "am_fit = am.fit()\n",
    "#am = arch_model(returns[stock] * 100, mean = \"AR\", vol = \"garch\", dist= skew_t) # fit garch model\n",
    "\n",
    "\n",
    "# Model Simulation\n",
    "fig, ax = plt.subplots(figsize = (12, 6))\n",
    "ax.set(xlabel = \"time\", ylabel = \"return\")\n",
    "\n",
    "\n",
    "for _ in range(n_sims):\n",
    "    simulation = am.simulate(params = am_fit.params, nobs = n_time_points) / 100\n",
    "    sim_prices = simulation.data.to_price_index()\n",
    "    \n",
    "    ax.plot(sim_prices, alpha = 30)"
   ]
  },
  {
   "cell_type": "code",
   "execution_count": 28,
   "metadata": {},
   "outputs": [
    {
     "data": {
      "text/plain": [
       "104.41475917147136"
      ]
     },
     "execution_count": 28,
     "metadata": {},
     "output_type": "execute_result"
    }
   ],
   "source": [
    "sim_prices[5]"
   ]
  },
  {
   "cell_type": "markdown",
   "metadata": {},
   "source": [
    "## create features"
   ]
  },
  {
   "cell_type": "code",
   "execution_count": 21,
   "metadata": {},
   "outputs": [
    {
     "data": {
      "text/plain": [
       "dtype('float64')"
      ]
     },
     "execution_count": 21,
     "metadata": {},
     "output_type": "execute_result"
    }
   ],
   "source": [
    "sim_prices"
   ]
  },
  {
   "cell_type": "code",
   "execution_count": 8,
   "metadata": {},
   "outputs": [],
   "source": [
    "df_test = pd.DataFrame({\"price\":sim_prices})"
   ]
  },
  {
   "cell_type": "code",
   "execution_count": 9,
   "metadata": {},
   "outputs": [
    {
     "data": {
      "text/html": [
       "<div>\n",
       "<style scoped>\n",
       "    .dataframe tbody tr th:only-of-type {\n",
       "        vertical-align: middle;\n",
       "    }\n",
       "\n",
       "    .dataframe tbody tr th {\n",
       "        vertical-align: top;\n",
       "    }\n",
       "\n",
       "    .dataframe thead th {\n",
       "        text-align: right;\n",
       "    }\n",
       "</style>\n",
       "<table border=\"1\" class=\"dataframe\">\n",
       "  <thead>\n",
       "    <tr style=\"text-align: right;\">\n",
       "      <th></th>\n",
       "      <th>price</th>\n",
       "      <th>ma_5</th>\n",
       "      <th>ma_50</th>\n",
       "    </tr>\n",
       "  </thead>\n",
       "  <tbody>\n",
       "    <tr>\n",
       "      <th>0</th>\n",
       "      <td>99.118440</td>\n",
       "      <td>NaN</td>\n",
       "      <td>NaN</td>\n",
       "    </tr>\n",
       "    <tr>\n",
       "      <th>1</th>\n",
       "      <td>102.336439</td>\n",
       "      <td>NaN</td>\n",
       "      <td>NaN</td>\n",
       "    </tr>\n",
       "    <tr>\n",
       "      <th>2</th>\n",
       "      <td>101.749408</td>\n",
       "      <td>NaN</td>\n",
       "      <td>NaN</td>\n",
       "    </tr>\n",
       "    <tr>\n",
       "      <th>3</th>\n",
       "      <td>103.612565</td>\n",
       "      <td>NaN</td>\n",
       "      <td>NaN</td>\n",
       "    </tr>\n",
       "    <tr>\n",
       "      <th>4</th>\n",
       "      <td>102.727014</td>\n",
       "      <td>101.908773</td>\n",
       "      <td>NaN</td>\n",
       "    </tr>\n",
       "    <tr>\n",
       "      <th>...</th>\n",
       "      <td>...</td>\n",
       "      <td>...</td>\n",
       "      <td>...</td>\n",
       "    </tr>\n",
       "    <tr>\n",
       "      <th>995</th>\n",
       "      <td>827.878245</td>\n",
       "      <td>824.999049</td>\n",
       "      <td>777.466262</td>\n",
       "    </tr>\n",
       "    <tr>\n",
       "      <th>996</th>\n",
       "      <td>832.949250</td>\n",
       "      <td>828.280738</td>\n",
       "      <td>779.862124</td>\n",
       "    </tr>\n",
       "    <tr>\n",
       "      <th>997</th>\n",
       "      <td>846.272848</td>\n",
       "      <td>832.733884</td>\n",
       "      <td>782.253482</td>\n",
       "    </tr>\n",
       "    <tr>\n",
       "      <th>998</th>\n",
       "      <td>857.981727</td>\n",
       "      <td>838.065906</td>\n",
       "      <td>784.233429</td>\n",
       "    </tr>\n",
       "    <tr>\n",
       "      <th>999</th>\n",
       "      <td>878.981344</td>\n",
       "      <td>848.812683</td>\n",
       "      <td>786.586524</td>\n",
       "    </tr>\n",
       "  </tbody>\n",
       "</table>\n",
       "<p>1000 rows × 3 columns</p>\n",
       "</div>"
      ],
      "text/plain": [
       "          price        ma_5       ma_50\n",
       "0     99.118440         NaN         NaN\n",
       "1    102.336439         NaN         NaN\n",
       "2    101.749408         NaN         NaN\n",
       "3    103.612565         NaN         NaN\n",
       "4    102.727014  101.908773         NaN\n",
       "..          ...         ...         ...\n",
       "995  827.878245  824.999049  777.466262\n",
       "996  832.949250  828.280738  779.862124\n",
       "997  846.272848  832.733884  782.253482\n",
       "998  857.981727  838.065906  784.233429\n",
       "999  878.981344  848.812683  786.586524\n",
       "\n",
       "[1000 rows x 3 columns]"
      ]
     },
     "execution_count": 9,
     "metadata": {},
     "output_type": "execute_result"
    }
   ],
   "source": [
    "df_test.create_features()"
   ]
  },
  {
   "cell_type": "code",
   "execution_count": null,
   "metadata": {},
   "outputs": [],
   "source": []
  },
  {
   "cell_type": "code",
   "execution_count": null,
   "metadata": {},
   "outputs": [],
   "source": []
  },
  {
   "cell_type": "code",
   "execution_count": null,
   "metadata": {},
   "outputs": [],
   "source": []
  },
  {
   "cell_type": "code",
   "execution_count": null,
   "metadata": {},
   "outputs": [],
   "source": []
  },
  {
   "cell_type": "code",
   "execution_count": null,
   "metadata": {},
   "outputs": [],
   "source": []
  },
  {
   "cell_type": "code",
   "execution_count": null,
   "metadata": {},
   "outputs": [],
   "source": []
  },
  {
   "cell_type": "code",
   "execution_count": null,
   "metadata": {},
   "outputs": [],
   "source": []
  },
  {
   "cell_type": "code",
   "execution_count": null,
   "metadata": {},
   "outputs": [],
   "source": []
  },
  {
   "cell_type": "code",
   "execution_count": null,
   "metadata": {},
   "outputs": [],
   "source": []
  },
  {
   "cell_type": "code",
   "execution_count": null,
   "metadata": {},
   "outputs": [],
   "source": []
  },
  {
   "cell_type": "code",
   "execution_count": null,
   "metadata": {},
   "outputs": [],
   "source": []
  },
  {
   "cell_type": "code",
   "execution_count": null,
   "metadata": {},
   "outputs": [],
   "source": []
  }
 ],
 "metadata": {
  "kernelspec": {
   "display_name": "Python 3",
   "language": "python",
   "name": "python3"
  },
  "language_info": {
   "codemirror_mode": {
    "name": "ipython",
    "version": 3
   },
   "file_extension": ".py",
   "mimetype": "text/x-python",
   "name": "python",
   "nbconvert_exporter": "python",
   "pygments_lexer": "ipython3",
   "version": "3.8.8"
  }
 },
 "nbformat": 4,
 "nbformat_minor": 1
}
