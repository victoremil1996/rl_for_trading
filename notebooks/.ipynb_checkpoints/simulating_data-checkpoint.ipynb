{
 "cells": [
  {
   "cell_type": "code",
   "execution_count": 153,
   "id": "efcc380b",
   "metadata": {},
   "outputs": [],
   "source": [
    "import pandas as pd\n",
    "import numpy as np\n",
    "import datatable as dt\n",
    "import yfinance as yf \n",
    "\n",
    "# Plotting\n",
    "import mplfinance as mpf # candle chart\n",
    "import matplotlib.pyplot as plt\n",
    "\n",
    "# Modelling\n",
    "import arch\n",
    "import pmdarima"
   ]
  },
  {
   "cell_type": "markdown",
   "id": "ba5ae44b",
   "metadata": {},
   "source": [
    "# Getting data"
   ]
  },
  {
   "cell_type": "code",
   "execution_count": 440,
   "id": "34d67313",
   "metadata": {},
   "outputs": [],
   "source": [
    "def get_finance_data(ticker):\n",
    "    data = yf.download(tickers = ticker,\n",
    "        #tickers=['BTC-USD'], \n",
    "        # use \"period\" instead of start/end\n",
    "        # valid periods: 1d,5d,1mo,3mo,6mo,1y,2y,5y,10y,ytd,max\n",
    "        # (optional, default is '1mo')\n",
    "        period=\"5y\",\n",
    "        # fetch data by interval (including intraday if period < 60 days)\n",
    "        # valid intervals: 1m,2m,5m,15m,30m,60m,90m,1h,1d,5d,1wk,1mo,3mo\n",
    "        # (optional, default is '1d')\n",
    "        interval=\"1d\")\n",
    "\n",
    "    data[\"Return\"] = (data[\"Close\"].shift(-1) - data[\"Close\"]) / data[\"Close\"]\n",
    "    data[\"Return\"] = data[\"Return\"].shift(1)\n",
    "    data[\"AbsReturns\"] = np.abs(data[\"Return\"])\n",
    "\n",
    "    return data"
   ]
  },
  {
   "cell_type": "code",
   "execution_count": 444,
   "id": "46ce29ba",
   "metadata": {},
   "outputs": [],
   "source": [
    "def create_features(data):\n",
    "    data[\"ma_5\"] = data[\"Price\"].rolling(window = 5).mean()\n",
    "    data[\"ma_50\"] = data[\"Price\"].rolling(window = 50).mean()\n",
    "    data[\"Return\"] = (data[\"Price\"].shift(-1) - data[\"Price\"]) / data[\"Price\"]\n",
    "    data[\"Return\"] = data[\"Return\"].shift(1)\n",
    "    \n",
    "    return data"
   ]
  },
  {
   "cell_type": "markdown",
   "id": "c03e526f",
   "metadata": {},
   "source": [
    "# AR & GARCH"
   ]
  },
  {
   "cell_type": "markdown",
   "id": "fde29faf",
   "metadata": {},
   "source": [
    "Fitting an AR + GARCH model from data, and thereafter simulating a stock process"
   ]
  },
  {
   "cell_type": "code",
   "execution_count": 435,
   "id": "66145569",
   "metadata": {
    "scrolled": true
   },
   "outputs": [],
   "source": [
    "def simulate_stock(from_data, n_sim, n_days, price_0 = 100):\n",
    "    \"\"\"\n",
    "    Simulating stock prices using from_data and a AR+GARCH process\n",
    "    -----------\n",
    "    Parameters:\n",
    "    from_data: Data to simulate from\n",
    "    n_sim: Number of simulations\n",
    "    n_days: Number of days to simulate n_sim times\n",
    "    price_0: Starting price for the simulations\n",
    "    \"\"\"\n",
    "    \n",
    "    am = arch.arch_model(y = from_data.dropna() * 100, mean = \"AR\", vol = \"garch\")\n",
    "    am_fitted = am.fit()\n",
    "    returns = am.simulate(params = am_fitted.params, nobs = n_days).data / 100\n",
    "    for i in range(n_sim-1):\n",
    "        temp = am.simulate(params = am_fitted.params, nobs = n_days).data / 100\n",
    "        returns = pd.concat([returns, temp], axis = 1)\n",
    "    \n",
    "    cum_returns = (1 + returns).cumprod(axis = 0)\n",
    "    stock_prices = cum_returns * price_0\n",
    "    return returns, cum_returns, stock_prices"
   ]
  },
  {
   "cell_type": "code",
   "execution_count": 437,
   "id": "e9b3fa1c",
   "metadata": {},
   "outputs": [],
   "source": [
    "#returns, cum_returns, stock_prices = simulate_stock(data['Return'], 1000, 252, data.Open[0])"
   ]
  },
  {
   "cell_type": "code",
   "execution_count": 436,
   "id": "e81eb14e",
   "metadata": {
    "scrolled": true
   },
   "outputs": [],
   "source": [
    "#stock_prices.plot(legend = False)"
   ]
  }
 ],
 "metadata": {
  "kernelspec": {
   "display_name": "Python 3",
   "language": "python",
   "name": "python3"
  },
  "language_info": {
   "codemirror_mode": {
    "name": "ipython",
    "version": 3
   },
   "file_extension": ".py",
   "mimetype": "text/x-python",
   "name": "python",
   "nbconvert_exporter": "python",
   "pygments_lexer": "ipython3",
   "version": "3.8.8"
  }
 },
 "nbformat": 4,
 "nbformat_minor": 5
}
