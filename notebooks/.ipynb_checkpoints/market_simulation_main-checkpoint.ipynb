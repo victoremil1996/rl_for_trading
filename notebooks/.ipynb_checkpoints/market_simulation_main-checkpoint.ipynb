{
 "cells": [
  {
   "cell_type": "code",
   "execution_count": 1,
   "metadata": {},
   "outputs": [],
   "source": [
    "\"\"\"\n",
    "Magic commands\n",
    "\"\"\"\n",
    "%matplotlib inline\n",
    "%load_ext autoreload\n",
    "%autoreload 2\n",
    "\n",
    "\"\"\"\n",
    "Python standard packages\n",
    "\"\"\"\n",
    "import os\n",
    "import sys\n",
    "\n",
    "import numpy as np\n",
    "import pandas as pd\n",
    "import matplotlib.pyplot as plt\n",
    "import seaborn as sns\n",
    "\n",
    "\"\"\"\n",
    "Own packages\n",
    "\"\"\"\n",
    "sys.path.insert(0, \"C:\\\\code\\\\speciale\\\\\") # vesl path\n",
    "sys.path.insert(0, \"C:\\\\Users\\\\lucas\\\\OneDrive\\\\Skrivebord\\\\repo\\\\speciale\\\\\") # ljb path\n",
    "\n",
    "from market_simulation_study.agent import RandomAgent, InvestorAgent, TrendAgent, RLAgent, MarketMakerAgent\n",
    "from market_simulation_study.environment import MarketEnvironment\n"
   ]
  },
  {
   "cell_type": "markdown",
   "metadata": {},
   "source": [
    "# Simulation \n",
    "\n",
    "\n",
    "## Setup"
   ]
  },
  {
   "cell_type": "code",
   "execution_count": 7,
   "metadata": {},
   "outputs": [],
   "source": [
    "# Declare parameters\n",
    "n_random_agents= 50\n",
    "n_investor_agents = 1\n",
    "n_trend_agents = 5\n",
    "n_rl_agents = 0\n",
    "\n",
    "n_agents = n_random_agents + n_investor_agents + n_trend_agents + n_rl_agents\n",
    "\n",
    "\n",
    "time_periods = 300\n",
    "\n",
    "price_list = [100 + np.random.normal() for j in range(100)]\n",
    "ex_list = np.array([[0]*n_agents, [0]*n_agents])\n",
    "fee = 0\n",
    "slippage = 0\n",
    "mean_buy_price = 99\n",
    "mean_sell_price = 101\n",
    "delta = 1\n",
    "\n",
    "\n",
    "\n",
    "state0 = {\"market_prices\": price_list, \"volume\": ex_list, 'fee':fee, \"mean_buy_price\":mean_buy_price,\n",
    "          \"mean_sell_price\":mean_sell_price, 'slippage':slippage}\n",
    "\n",
    "env = MarketEnvironment(state0)\n",
    "agents = []\n",
    "\n",
    "random_agents = [RandomAgent(agent_id = j,\n",
    "                             delta = delta) for j in range(n_random_agents)]\n",
    "\n",
    "investor_agents = [InvestorAgent(agent_id = j + n_random_agents,\n",
    "                                 delta = delta,\n",
    "                                 intensity = 0.1) for j in range(n_investor_agents)]\n",
    "\n",
    "trend_agents = [TrendAgent(agent_id = j + n_random_agents + n_investor_agents,\n",
    "                                 delta = delta) for j in range(n_trend_agents)]\n",
    "\n",
    "rl_agents = [RLAgent(agent_id = j + n_random_agents + n_investor_agents + n_trend_agents,\n",
    "                                 delta = delta) for j in range(n_rl_agents)]\n",
    "\n",
    "agents.append(random_agents)\n",
    "agents.append(investor_agents)\n",
    "agents.append(trend_agents)\n",
    "agents.append(rl_agents)\n",
    "\n",
    "agents = [item for sublist in agents for item in sublist]\n",
    "\n",
    "# Initialize agents\n",
    "for j in range(n_agents):\n",
    "        agents[j].update(state0)"
   ]
  },
  {
   "cell_type": "markdown",
   "metadata": {},
   "source": [
    "## Run simulation"
   ]
  },
  {
   "cell_type": "code",
   "execution_count": 8,
   "metadata": {},
   "outputs": [
    {
     "data": {
      "text/plain": [
       "array([[0, 0],\n",
       "       [9, 9],\n",
       "       [1, 2]])"
      ]
     },
     "execution_count": 8,
     "metadata": {},
     "output_type": "execute_result"
    }
   ],
   "source": [
    "a = np.array([1, 2])\n",
    "b = np.array([3, 4])\n",
    "c = np.array([[0, 0], [9, 9]])\n",
    "\n",
    "d = np.vstack((c, a))\n",
    "d"
   ]
  },
  {
   "cell_type": "code",
   "execution_count": 9,
   "metadata": {
    "scrolled": true
   },
   "outputs": [],
   "source": [
    "#fig, ax = plt.subplots(figsize = (12, 6))\n",
    "#plot_data = pd.DataFrame({\"time\": None, \"pnl\": None, \"agent_id\": None}, index = [0])\n",
    "rl_profit = []\n",
    "for time in range(time_periods):\n",
    "    state = env.step(agents)\n",
    "    #agents[-1].calculate_profit_and_loss(state)\n",
    "    rl_profit.append(agents[-1].pnl)\n",
    "    #agents[-1].update_q_mat(state)\n",
    "    for j in range(n_agents):\n",
    "        agents[j].update(state)\n",
    "        #agents[j].calculate_profit_and_loss(state)\n",
    "        #ax.scatter(time, agents[j].pnl)\n",
    "        \n"
   ]
  },
  {
   "cell_type": "code",
   "execution_count": 10,
   "metadata": {},
   "outputs": [
    {
     "data": {
      "text/plain": [
       "20.0"
      ]
     },
     "execution_count": 10,
     "metadata": {},
     "output_type": "execute_result"
    }
   ],
   "source": [
    "state[\"volume\"]"
   ]
  },
  {
   "cell_type": "code",
   "execution_count": 11,
   "metadata": {},
   "outputs": [
    {
     "data": {
      "text/plain": [
       "[<matplotlib.lines.Line2D at 0x1f36ed1e070>]"
      ]
     },
     "execution_count": 11,
     "metadata": {},
     "output_type": "execute_result"
    },
    {
     "data": {
      "image/png": "[encoded data removed]",
      "text/plain": [
       "<Figure size 432x288 with 1 Axes>"
      ]
     },
     "metadata": {
      "needs_background": "light"
     },
     "output_type": "display_data"
    }
   ],
   "source": [
    "plt.plot(state[\"market_prices\"])"
   ]
  },
  {
   "cell_type": "code",
   "execution_count": 18,
   "metadata": {},
   "outputs": [
    {
     "data": {
      "text/plain": [
       "(57, 2)"
      ]
     },
     "execution_count": 18,
     "metadata": {},
     "output_type": "execute_result"
    }
   ],
   "source": [
    "agents[0].all_trades.shape"
   ]
  },
  {
   "cell_type": "markdown",
   "metadata": {},
   "source": [
    "# Performance overview"
   ]
  },
  {
   "cell_type": "code",
   "execution_count": 10,
   "metadata": {},
   "outputs": [],
   "source": [
    "ma = pd.Series(state[\"market_prices\"]).rolling(window = 1).apply(lambda x: np.average(x)).dropna()\n",
    "ma2 = pd.Series(state[\"market_prices\"]).rolling(window = 2).apply(lambda x: np.average(x)).dropna()\n"
   ]
  },
  {
   "cell_type": "code",
   "execution_count": 11,
   "metadata": {},
   "outputs": [
    {
     "data": {
      "text/plain": [
       "156395131303875.0"
      ]
     },
     "execution_count": 11,
     "metadata": {},
     "output_type": "execute_result"
    },
    {
     "data": {
      "image/png": "[encoded data removed]",
      "text/plain": [
       "<Figure size 864x432 with 1 Axes>"
      ]
     },
     "metadata": {
      "needs_background": "light"
     },
     "output_type": "display_data"
    }
   ],
   "source": [
    "fig, ax = plt.subplots(figsize = (12, 6))\n",
    "ax.plot(state['market_prices'][2:])\n",
    "ax.plot(ma)\n",
    "ax.plot(ma2)\n",
    "ax.set(xlim=[0,100])\n",
    "ax.set(ylim=[95,105])\n",
    "state[\"market_prices\"]\n",
    "np.maximum(agents[0].sell_price, 0)"
   ]
  },
  {
   "cell_type": "code",
   "execution_count": 14,
   "metadata": {},
   "outputs": [
    {
     "name": "stdout",
     "output_type": "stream",
     "text": [
      "PNL SUM:  -2.0\n",
      "POS SUM:  0\n"
     ]
    },
    {
     "data": {
      "text/html": [
       "<div>\n",
       "<style scoped>\n",
       "    .dataframe tbody tr th:only-of-type {\n",
       "        vertical-align: middle;\n",
       "    }\n",
       "\n",
       "    .dataframe tbody tr th {\n",
       "        vertical-align: top;\n",
       "    }\n",
       "\n",
       "    .dataframe thead th {\n",
       "        text-align: right;\n",
       "    }\n",
       "</style>\n",
       "<table border=\"1\" class=\"dataframe\">\n",
       "  <thead>\n",
       "    <tr style=\"text-align: right;\">\n",
       "      <th></th>\n",
       "      <th>id</th>\n",
       "      <th>class</th>\n",
       "      <th>Position</th>\n",
       "      <th>PNL</th>\n",
       "      <th>latency</th>\n",
       "    </tr>\n",
       "  </thead>\n",
       "  <tbody>\n",
       "    <tr>\n",
       "      <th>22</th>\n",
       "      <td>22</td>\n",
       "      <td>Trend</td>\n",
       "      <td>0</td>\n",
       "      <td>1.496977e+16</td>\n",
       "      <td>-1.981183</td>\n",
       "    </tr>\n",
       "    <tr>\n",
       "      <th>4</th>\n",
       "      <td>4</td>\n",
       "      <td>Random</td>\n",
       "      <td>0</td>\n",
       "      <td>-1.262131e+15</td>\n",
       "      <td>-1.167067</td>\n",
       "    </tr>\n",
       "    <tr>\n",
       "      <th>26</th>\n",
       "      <td>26</td>\n",
       "      <td>Trend</td>\n",
       "      <td>0</td>\n",
       "      <td>1.186371e+16</td>\n",
       "      <td>-0.240809</td>\n",
       "    </tr>\n",
       "    <tr>\n",
       "      <th>11</th>\n",
       "      <td>11</td>\n",
       "      <td>Random</td>\n",
       "      <td>0</td>\n",
       "      <td>-1.116246e+15</td>\n",
       "      <td>-0.216732</td>\n",
       "    </tr>\n",
       "    <tr>\n",
       "      <th>18</th>\n",
       "      <td>18</td>\n",
       "      <td>Random</td>\n",
       "      <td>0</td>\n",
       "      <td>-1.194690e+15</td>\n",
       "      <td>0.010505</td>\n",
       "    </tr>\n",
       "    <tr>\n",
       "      <th>20</th>\n",
       "      <td>20</td>\n",
       "      <td>Investor</td>\n",
       "      <td>0</td>\n",
       "      <td>1.461573e+03</td>\n",
       "      <td>0.104043</td>\n",
       "    </tr>\n",
       "    <tr>\n",
       "      <th>12</th>\n",
       "      <td>12</td>\n",
       "      <td>Random</td>\n",
       "      <td>0</td>\n",
       "      <td>-1.711072e+15</td>\n",
       "      <td>0.128295</td>\n",
       "    </tr>\n",
       "    <tr>\n",
       "      <th>9</th>\n",
       "      <td>9</td>\n",
       "      <td>Random</td>\n",
       "      <td>0</td>\n",
       "      <td>-1.889362e+15</td>\n",
       "      <td>0.148094</td>\n",
       "    </tr>\n",
       "    <tr>\n",
       "      <th>19</th>\n",
       "      <td>19</td>\n",
       "      <td>Random</td>\n",
       "      <td>0</td>\n",
       "      <td>-2.319441e+15</td>\n",
       "      <td>0.314136</td>\n",
       "    </tr>\n",
       "    <tr>\n",
       "      <th>1</th>\n",
       "      <td>1</td>\n",
       "      <td>Random</td>\n",
       "      <td>0</td>\n",
       "      <td>-1.984782e+15</td>\n",
       "      <td>0.361570</td>\n",
       "    </tr>\n",
       "    <tr>\n",
       "      <th>2</th>\n",
       "      <td>2</td>\n",
       "      <td>Random</td>\n",
       "      <td>0</td>\n",
       "      <td>-1.555002e+15</td>\n",
       "      <td>0.505947</td>\n",
       "    </tr>\n",
       "    <tr>\n",
       "      <th>6</th>\n",
       "      <td>6</td>\n",
       "      <td>Random</td>\n",
       "      <td>0</td>\n",
       "      <td>-2.193288e+15</td>\n",
       "      <td>0.523528</td>\n",
       "    </tr>\n",
       "    <tr>\n",
       "      <th>3</th>\n",
       "      <td>3</td>\n",
       "      <td>Random</td>\n",
       "      <td>0</td>\n",
       "      <td>-2.000082e+15</td>\n",
       "      <td>0.625390</td>\n",
       "    </tr>\n",
       "    <tr>\n",
       "      <th>5</th>\n",
       "      <td>5</td>\n",
       "      <td>Random</td>\n",
       "      <td>0</td>\n",
       "      <td>-1.552412e+15</td>\n",
       "      <td>0.762574</td>\n",
       "    </tr>\n",
       "    <tr>\n",
       "      <th>17</th>\n",
       "      <td>17</td>\n",
       "      <td>Random</td>\n",
       "      <td>0</td>\n",
       "      <td>-2.113039e+15</td>\n",
       "      <td>0.910321</td>\n",
       "    </tr>\n",
       "    <tr>\n",
       "      <th>8</th>\n",
       "      <td>8</td>\n",
       "      <td>Random</td>\n",
       "      <td>0</td>\n",
       "      <td>-9.050255e+14</td>\n",
       "      <td>0.961668</td>\n",
       "    </tr>\n",
       "    <tr>\n",
       "      <th>0</th>\n",
       "      <td>0</td>\n",
       "      <td>Random</td>\n",
       "      <td>0</td>\n",
       "      <td>-1.857074e+15</td>\n",
       "      <td>1.015370</td>\n",
       "    </tr>\n",
       "    <tr>\n",
       "      <th>15</th>\n",
       "      <td>15</td>\n",
       "      <td>Random</td>\n",
       "      <td>0</td>\n",
       "      <td>-1.789514e+15</td>\n",
       "      <td>1.030616</td>\n",
       "    </tr>\n",
       "    <tr>\n",
       "      <th>24</th>\n",
       "      <td>24</td>\n",
       "      <td>Trend</td>\n",
       "      <td>0</td>\n",
       "      <td>4.990191e+15</td>\n",
       "      <td>1.072858</td>\n",
       "    </tr>\n",
       "    <tr>\n",
       "      <th>7</th>\n",
       "      <td>7</td>\n",
       "      <td>Random</td>\n",
       "      <td>0</td>\n",
       "      <td>-1.496169e+15</td>\n",
       "      <td>1.144308</td>\n",
       "    </tr>\n",
       "    <tr>\n",
       "      <th>25</th>\n",
       "      <td>25</td>\n",
       "      <td>Trend</td>\n",
       "      <td>0</td>\n",
       "      <td>1.930419e+15</td>\n",
       "      <td>1.273363</td>\n",
       "    </tr>\n",
       "    <tr>\n",
       "      <th>10</th>\n",
       "      <td>10</td>\n",
       "      <td>Random</td>\n",
       "      <td>0</td>\n",
       "      <td>-1.907045e+15</td>\n",
       "      <td>1.706065</td>\n",
       "    </tr>\n",
       "    <tr>\n",
       "      <th>23</th>\n",
       "      <td>23</td>\n",
       "      <td>Trend</td>\n",
       "      <td>0</td>\n",
       "      <td>1.159154e+15</td>\n",
       "      <td>1.712298</td>\n",
       "    </tr>\n",
       "    <tr>\n",
       "      <th>14</th>\n",
       "      <td>14</td>\n",
       "      <td>Random</td>\n",
       "      <td>0</td>\n",
       "      <td>-2.264795e+15</td>\n",
       "      <td>1.765685</td>\n",
       "    </tr>\n",
       "    <tr>\n",
       "      <th>13</th>\n",
       "      <td>13</td>\n",
       "      <td>Random</td>\n",
       "      <td>0</td>\n",
       "      <td>-1.816727e+15</td>\n",
       "      <td>2.241795</td>\n",
       "    </tr>\n",
       "    <tr>\n",
       "      <th>16</th>\n",
       "      <td>16</td>\n",
       "      <td>Random</td>\n",
       "      <td>0</td>\n",
       "      <td>-1.985347e+15</td>\n",
       "      <td>2.454575</td>\n",
       "    </tr>\n",
       "    <tr>\n",
       "      <th>21</th>\n",
       "      <td>21</td>\n",
       "      <td>Investor</td>\n",
       "      <td>0</td>\n",
       "      <td>2.062094e+03</td>\n",
       "      <td>2.999059</td>\n",
       "    </tr>\n",
       "  </tbody>\n",
       "</table>\n",
       "</div>"
      ],
      "text/plain": [
       "    id     class Position           PNL   latency\n",
       "22  22     Trend        0  1.496977e+16 -1.981183\n",
       "4    4    Random        0 -1.262131e+15 -1.167067\n",
       "26  26     Trend        0  1.186371e+16 -0.240809\n",
       "11  11    Random        0 -1.116246e+15 -0.216732\n",
       "18  18    Random        0 -1.194690e+15  0.010505\n",
       "20  20  Investor        0  1.461573e+03  0.104043\n",
       "12  12    Random        0 -1.711072e+15  0.128295\n",
       "9    9    Random        0 -1.889362e+15  0.148094\n",
       "19  19    Random        0 -2.319441e+15  0.314136\n",
       "1    1    Random        0 -1.984782e+15  0.361570\n",
       "2    2    Random        0 -1.555002e+15  0.505947\n",
       "6    6    Random        0 -2.193288e+15  0.523528\n",
       "3    3    Random        0 -2.000082e+15  0.625390\n",
       "5    5    Random        0 -1.552412e+15  0.762574\n",
       "17  17    Random        0 -2.113039e+15  0.910321\n",
       "8    8    Random        0 -9.050255e+14  0.961668\n",
       "0    0    Random        0 -1.857074e+15  1.015370\n",
       "15  15    Random        0 -1.789514e+15  1.030616\n",
       "24  24     Trend        0  4.990191e+15  1.072858\n",
       "7    7    Random        0 -1.496169e+15  1.144308\n",
       "25  25     Trend        0  1.930419e+15  1.273363\n",
       "10  10    Random        0 -1.907045e+15  1.706065\n",
       "23  23     Trend        0  1.159154e+15  1.712298\n",
       "14  14    Random        0 -2.264795e+15  1.765685\n",
       "13  13    Random        0 -1.816727e+15  2.241795\n",
       "16  16    Random        0 -1.985347e+15  2.454575\n",
       "21  21  Investor        0  2.062094e+03  2.999059"
      ]
     },
     "metadata": {},
     "output_type": "display_data"
    },
    {
     "data": {
      "text/plain": [
       "class\n",
       "Investor    1.761834e+03\n",
       "Random     -1.745662e+15\n",
       "Trend       6.982649e+15\n",
       "Name: PNL, dtype: float64"
      ]
     },
     "metadata": {},
     "output_type": "display_data"
    }
   ],
   "source": [
    "stats_df = pd.DataFrame({\"id\":None, \"class\":None, \"Position\":None, \"PNL\":None}, index = [0]).dropna()\n",
    "for agent in agents:\n",
    "    agent.calculate_profit_and_loss(state)\n",
    "    df_temp = pd.DataFrame({\"id\": agent.agent_id,\n",
    "                            \"class\":agent.agent_class, \n",
    "                            \"Position\":agent.position, \n",
    "                            \"PNL\": agent.pnl, \n",
    "                            \"latency\": agent.latency},\n",
    "                            index = [agent.agent_id])\n",
    "    stats_df = stats_df.append(df_temp)\n",
    "\n",
    "print(\"PNL SUM: \", stats_df[\"PNL\"].sum())\n",
    "print(\"POS SUM: \", stats_df[\"Position\"].sum())\n",
    "stats_df.sort_values(\"latency\", inplace = True)\n",
    "np.corrcoef(stats_df.PNL.values, stats_df.latency.values)\n",
    "display(stats_df)\n",
    "display(stats_df.groupby(\"class\")[\"PNL\"].mean())"
   ]
  },
  {
   "cell_type": "code",
   "execution_count": null,
   "metadata": {},
   "outputs": [],
   "source": []
  },
  {
   "cell_type": "code",
   "execution_count": null,
   "metadata": {},
   "outputs": [],
   "source": []
  }
 ],
 "metadata": {
  "kernelspec": {
   "display_name": "Python 3",
   "language": "python",
   "name": "python3"
  },
  "language_info": {
   "codemirror_mode": {
    "name": "ipython",
    "version": 3
   },
   "file_extension": ".py",
   "mimetype": "text/x-python",
   "name": "python",
   "nbconvert_exporter": "python",
   "pygments_lexer": "ipython3",
   "version": "3.8.10"
  }
 },
 "nbformat": 4,
 "nbformat_minor": 1
}
