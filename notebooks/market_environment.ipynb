{
 "cells": [
  {
   "cell_type": "code",
   "execution_count": 18,
   "id": "52b3b183",
   "metadata": {},
   "outputs": [],
   "source": [
    "import numpy as np\n",
    "import pandas as pd\n",
    "import random"
   ]
  },
  {
   "cell_type": "code",
   "execution_count": 11,
   "id": "07bd7302",
   "metadata": {},
   "outputs": [],
   "source": [
    "class market_env():\n",
    "    def __init__(self, market_prices, fee):\n",
    "        self.market_prices = market_prices\n",
    "        self.fee = fee\n",
    "        \n",
    "    def make_que(self):\n",
    "        latencies = [0] * len(self.agent) \n",
    "        for i in range(len(self.agent)):\n",
    "            latencies[i] = self.agent.latency\n",
    "        #que_indices = range(len(self.agent))\n",
    "        \n",
    "        return latencies\n",
    "    \n",
    "    def match(self):\n",
    "        que_indices = self.make_que()\n",
    "        \n",
    "        matched_buy = [0] * len(self.agent)\n",
    "        matched_sell = [0] * len(self.agent)\n",
    "        mean_price = 0\n",
    "        buyers, sellers = np.array(self.agent).copy(), np.array(self.agent).copy()\n",
    "        buyers = [x for _, x in sorted(zip(latencies, buyers))]\n",
    "        sellers = [x for _, x in sorted(zip(latencies, sellers))]\n",
    "        \n",
    "        for i, buyer in enumerate(buyers): # buy index\n",
    "            for j, seller in enumerate(sellers): # sell index\n",
    "                if buyer.agent_id != seller.agent_id:\n",
    "                    if buyer.buy_price >= seller.sell_price:\n",
    "                        matched_buy[buyer.agent_id] = 1\n",
    "                        matched_sell[seller.agent_id] = 1\n",
    "                        \n",
    "                        print(\"ORDER FILLED\")\n",
    "                        mean_price += (buyer.buy_price + seller.sell_price) / 2\n",
    "                        \n",
    "                        sellers = np.delete(sellers, 1)\n",
    "                        break\n",
    "                    else:\n",
    "                        print(\"ORDER NOT FILLED\")\n",
    "        \n",
    "        if len(matched_sell) > 0:\n",
    "            mean_price /= (len(matched_sell))\n",
    "        else:\n",
    "            mean_price = self.market_prices[-1]\n",
    "            \n",
    "        print(mean_price)\n",
    "        self.market_prices.append(mean_price)\n",
    "        return matched_buy, matched_sell\n",
    "    \n",
    "    def update_market(self):\n",
    "        \n",
    "        return\n",
    "    \n",
    "    def step(self, agent):\n",
    "        self.agent = agent\n",
    "        matched_buy, matched_sell = self.match()\n",
    "        self.update_market()\n",
    "        state = [{'execution_status': np.array([matched_buy, matched_sell]),\n",
    "                  'mid_prices': self.market_prices}]\n",
    "        return matched_buy, matched_sell, self.market_prices\n",
    "    \n",
    "    \n",
    "    "
   ]
  },
  {
   "cell_type": "code",
   "execution_count": 12,
   "id": "847fafad",
   "metadata": {},
   "outputs": [],
   "source": [
    "class agent():\n",
    "    def __init__(self, strat, prices):\n",
    "        self.strat = strat\n",
    "        self.buy_price = prices[-1] * 1 + random.randrange(95, 100) / 100\n",
    "        self.sell_price = prices[-1] * 1 - random.randrange(95, 100) / 100\n",
    "    \n",
    "    def update(self, prices):\n",
    "        self.buy_price = prices[-1] * 1 + random.randrange(95, 100) / 100\n",
    "        self.sell_price = prices[-1] * 1 - random.randrange(95, 100) / 100"
   ]
  }
 ],
 "metadata": {
  "kernelspec": {
   "display_name": "Python 3",
   "language": "python",
   "name": "python3"
  },
  "language_info": {
   "codemirror_mode": {
    "name": "ipython",
    "version": 3
   },
   "file_extension": ".py",
   "mimetype": "text/x-python",
   "name": "python",
   "nbconvert_exporter": "python",
   "pygments_lexer": "ipython3",
   "version": "3.8.8"
  }
 },
 "nbformat": 4,
 "nbformat_minor": 5
}
